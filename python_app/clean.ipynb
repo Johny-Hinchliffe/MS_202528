{
 "cells": [
  {
   "cell_type": "code",
   "execution_count": 2,
   "metadata": {},
   "outputs": [
    {
     "name": "stdout",
     "output_type": "stream",
     "text": [
      "114\n"
     ]
    },
    {
     "data": {
      "text/html": [
       "<div>\n",
       "<style scoped>\n",
       "    .dataframe tbody tr th:only-of-type {\n",
       "        vertical-align: middle;\n",
       "    }\n",
       "\n",
       "    .dataframe tbody tr th {\n",
       "        vertical-align: top;\n",
       "    }\n",
       "\n",
       "    .dataframe thead th {\n",
       "        text-align: right;\n",
       "    }\n",
       "</style>\n",
       "<table border=\"1\" class=\"dataframe\">\n",
       "  <thead>\n",
       "    <tr style=\"text-align: right;\">\n",
       "      <th></th>\n",
       "      <th>Id</th>\n",
       "      <th>Books</th>\n",
       "      <th>Book checkout</th>\n",
       "      <th>Book Returned</th>\n",
       "      <th>Days allowed to borrow</th>\n",
       "      <th>Customer ID</th>\n",
       "    </tr>\n",
       "  </thead>\n",
       "  <tbody>\n",
       "    <tr>\n",
       "      <th>0</th>\n",
       "      <td>1.0</td>\n",
       "      <td>Catcher in the Rye</td>\n",
       "      <td>\"20/02/2023\"</td>\n",
       "      <td>25/02/2023</td>\n",
       "      <td>2 weeks</td>\n",
       "      <td>1.0</td>\n",
       "    </tr>\n",
       "    <tr>\n",
       "      <th>1</th>\n",
       "      <td>2.0</td>\n",
       "      <td>Lord of the rings the two towers</td>\n",
       "      <td>\"24/03/2023\"</td>\n",
       "      <td>21/03/2023</td>\n",
       "      <td>2 weeks</td>\n",
       "      <td>2.0</td>\n",
       "    </tr>\n",
       "    <tr>\n",
       "      <th>2</th>\n",
       "      <td>3.0</td>\n",
       "      <td>Lord of the rings the return of the kind</td>\n",
       "      <td>\"29/03/2023\"</td>\n",
       "      <td>25/03/2023</td>\n",
       "      <td>2 weeks</td>\n",
       "      <td>3.0</td>\n",
       "    </tr>\n",
       "    <tr>\n",
       "      <th>3</th>\n",
       "      <td>4.0</td>\n",
       "      <td>The hobbit</td>\n",
       "      <td>\"02/04/2023\"</td>\n",
       "      <td>25/03/2023</td>\n",
       "      <td>2 weeks</td>\n",
       "      <td>4.0</td>\n",
       "    </tr>\n",
       "    <tr>\n",
       "      <th>4</th>\n",
       "      <td>5.0</td>\n",
       "      <td>Dune</td>\n",
       "      <td>\"02/04/2023\"</td>\n",
       "      <td>25/03/2023</td>\n",
       "      <td>2 weeks</td>\n",
       "      <td>5.0</td>\n",
       "    </tr>\n",
       "  </tbody>\n",
       "</table>\n",
       "</div>"
      ],
      "text/plain": [
       "    Id                                     Books Book checkout Book Returned  \\\n",
       "0  1.0                       Catcher in the Rye   \"20/02/2023\"    25/02/2023   \n",
       "1  2.0          Lord of the rings the two towers  \"24/03/2023\"    21/03/2023   \n",
       "2  3.0  Lord of the rings the return of the kind  \"29/03/2023\"    25/03/2023   \n",
       "3  4.0                                The hobbit  \"02/04/2023\"    25/03/2023   \n",
       "4  5.0                                     Dune   \"02/04/2023\"    25/03/2023   \n",
       "\n",
       "  Days allowed to borrow  Customer ID  \n",
       "0                2 weeks          1.0  \n",
       "1                2 weeks          2.0  \n",
       "2                2 weeks          3.0  \n",
       "3                2 weeks          4.0  \n",
       "4                2 weeks          5.0  "
      ]
     },
     "execution_count": 2,
     "metadata": {},
     "output_type": "execute_result"
    }
   ],
   "source": [
    "import pandas as pd\n",
    "\n",
    "\n",
    "#Read the CSV file to clean it\n",
    "books_df = pd.read_csv('data/03_Library Systembook.csv')\n",
    "\n",
    "# Initial row counts\n",
    "books_rows_initial = len(books_df)\n",
    "\n",
    "print(books_rows_initial)\n",
    "books_df.head()"
   ]
  },
  {
   "cell_type": "code",
   "execution_count": null,
   "metadata": {},
   "outputs": [],
   "source": [
    "# Clean date columns: remove quotes and unify format\n",
    "date_cols = [\"Book checkout\", \"Book Returned\"]\n",
    "quotes_removed = 0\n",
    "invalid_dates_fixed = 0\n",
    "\n",
    "for col in date_cols:\n",
    "    if col in books_df.columns:\n",
    "        # Count quotes before\n",
    "        quotes_before = books_df[col].astype(str).str.count('\"').sum()\n",
    "        books_df[col] = books_df[col].astype(str).str.replace('\"', '')\n",
    "        quotes_after = books_df[col].astype(str).str.count('\"').sum()\n",
    "        quotes_removed += (quotes_before - quotes_after)\n",
    "\n",
    "        # Convert to datetime to identify invalid/malformed dates\n",
    "        parsed_dates = pd.to_datetime(books_df[col], dayfirst=True, errors='coerce')\n",
    "        invalid_dates = parsed_dates.isna().sum()\n",
    "        invalid_dates_fixed += invalid_dates\n",
    "        books_df[col] = parsed_dates.dt.strftime('%d/%m/%Y')\n",
    "\n",
    "books_df.head"
   ]
  }
 ],
 "metadata": {
  "kernelspec": {
   "display_name": "Python 3",
   "language": "python",
   "name": "python3"
  },
  "language_info": {
   "codemirror_mode": {
    "name": "ipython",
    "version": 3
   },
   "file_extension": ".py",
   "mimetype": "text/x-python",
   "name": "python",
   "nbconvert_exporter": "python",
   "pygments_lexer": "ipython3",
   "version": "3.12.3"
  }
 },
 "nbformat": 4,
 "nbformat_minor": 2
}
